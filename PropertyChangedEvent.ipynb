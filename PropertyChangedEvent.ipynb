{
 "cells": [
  {
   "cell_type": "code",
   "execution_count": null,
   "metadata": {},
   "outputs": [],
   "source": [
    "using System;\n",
    "using System.ComponentModel;\n",
    "\n",
    "public class Person : INotifyPropertyChanged\n",
    "{\n",
    "    private string name;\n",
    "\n",
    "    // Declare the PropertyChanged event using the built-in delegate\n",
    "    public event PropertyChangedEventHandler PropertyChanged;\n",
    "\n",
    "    public string Name\n",
    "    {\n",
    "        get => name;\n",
    "        set\n",
    "        {\n",
    "            if (name != value)\n",
    "            {\n",
    "                name = value;\n",
    "                OnPropertyChanged(nameof(Name));\n",
    "            }\n",
    "        }\n",
    "    }\n",
    "\n",
    "    // Raise the PropertyChanged event\n",
    "    protected virtual void OnPropertyChanged(string propertyName)\n",
    "    {\n",
    "        PropertyChanged?.Invoke(this, new PropertyChangedEventArgs(propertyName));\n",
    "    }\n",
    "}"
   ]
  }
 ],
 "metadata": {
  "language_info": {
   "name": "python"
  }
 },
 "nbformat": 4,
 "nbformat_minor": 2
}
