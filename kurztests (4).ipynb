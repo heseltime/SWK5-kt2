{
 "cells": [
  {
   "cell_type": "markdown",
   "metadata": {},
   "source": [
    "# Kurztests SWK5UE WS23/24\n"
   ]
  },
  {
   "cell_type": "markdown",
   "metadata": {},
   "source": [
    "## Kurztest 1 - Nachtermin"
   ]
  },
  {
   "cell_type": "markdown",
   "metadata": {},
   "source": [
    "### Ski-Rennen - Ergebnisauswertung\n",
    "Gegeben sind folgende Typen, die das Ergebnis eines Ski-Rennens abbilden.\n",
    "\n",
    "```\n",
    "public record Result(\n",
    "    string Racer,       // Name Teilnehmer:in\n",
    "    long Time,          // benötigte Zeit in Millisekunden\n",
    "    bool Finished       // Rennen erfolgreich beendet?\n",
    ");\n",
    "```\n",
    "\n",
    "```\n",
    "public Class SkiRace\n",
    "{\n",
    "    private List<Result> results; // bereits befüllt\n",
    "    ...\n",
    "}\n",
    "```\n"
   ]
  },
  {
   "cell_type": "markdown",
   "metadata": {},
   "source": [
    "### Beispiel\n",
    "a) Komplettieren Sie die gegebene Methode GetRanking(Klasse SkiRace), welche die (nach Zeit aufsteigend sortierte) Rangliste für das Rennen ermittelt. Es sollen nur Teilnehmer:innen berücksichtigt werden, die das Rennen erfolgreich beendet haben (Finished).\n",
    "\n",
    "Verwenden Sie dazu so weit wie möglich LINQ (Query- oder/und Method-Syntax).\n",
    "\n",
    "Hinweis: Sie können davon ausgehen, dass keine Zeit (Time) mehrfach vorkommt.\n",
    "\n",
    "```\n",
    "public record RankingInfo(string Racer, long Time);\n",
    "\n",
    "public List<RankingInfo> GetRanking()\n",
    "{\n",
    "```"
   ]
  },
  {
   "cell_type": "code",
   "execution_count": 1,
   "metadata": {
    "dotnet_interactive": {
     "language": "csharp"
    },
    "polyglot_notebook": {
     "kernelName": "csharp"
    },
    "vscode": {
     "languageId": "polyglot-notebook"
    }
   },
   "outputs": [],
   "source": [
    "// hier der Code für 1(a)"
   ]
  },
  {
   "cell_type": "markdown",
   "metadata": {},
   "source": [
    "```}```"
   ]
  },
  {
   "cell_type": "markdown",
   "metadata": {},
   "source": [
    "### Beispiel\n",
    "b) Implementieren Sie eine Erweiterungsmethode (Extension Method) **GetRacersWithPoints** für den Typ SkiRace, welche auf Basis der Daten von GetRanking die Namen der Läufer:innen liefert, welche Weltcup-Punkte erreicht haben (> 0 Punkte).\n",
    "\n",
    "Als Argument wird eine Delegate-Instanz vom Typ Func<int, int> übergeben, welche für eine Renn-Position (Platzierung) die entsprechende Weltcup-Punkte liefert.\n",
    "\n",
    "Die Verwendung soll folgendermaßen möglich sein:\n",
    "```\n",
    "Func<int, int> mapPositionToPoints = ...; // gegeben\n",
    "\n",
    "var skiRace = new SkiRace();\n",
    "\n",
    "IEnumerable<string> racers = skiRace.getRacersWithPoints(mapPositionToPoints);\n",
    "\n",
    "```"
   ]
  },
  {
   "cell_type": "code",
   "execution_count": null,
   "metadata": {
    "dotnet_interactive": {
     "language": "csharp"
    },
    "polyglot_notebook": {
     "kernelName": "csharp"
    },
    "vscode": {
     "languageId": "polyglot-notebook"
    }
   },
   "outputs": [],
   "source": [
    "// hier der Code für 1(b)"
   ]
  },
  {
   "cell_type": "markdown",
   "metadata": {},
   "source": [
    "### Beispiel\n",
    "c) Implementieren Sie die **asynchrone** Methode ``PrintCertificatesAsync`` (für die Klasse SkiRace), welche für jede(n) erfolgreiche(n) Läufer:in (auf Basis der Daten von GetRanking) unter Zuhilfenahme der Klasse ``Printer``(gegeben) jeweils eine Urkunde ausdruckt. Aufrufer von ``PrintCertificatesAsync`` sollen die Anzahl der gedruckten Urkunden mitgeteilt bekommen.\n",
    "\n",
    "```\n",
    "public class Printer : IDisposable {\n",
    "    public Task PrintAsync(string racer) {...}\n",
    "}\n",
    "```"
   ]
  },
  {
   "cell_type": "code",
   "execution_count": null,
   "metadata": {
    "dotnet_interactive": {
     "language": "csharp"
    },
    "polyglot_notebook": {
     "kernelName": "csharp"
    },
    "vscode": {
     "languageId": "polyglot-notebook"
    }
   },
   "outputs": [],
   "source": [
    "// hier der Code für 1(c)"
   ]
  },
  {
   "cell_type": "markdown",
   "metadata": {},
   "source": [
    "## Kurztest 2"
   ]
  },
  {
   "cell_type": "markdown",
   "metadata": {},
   "source": [
    "### Beispiel\n",
    "Hier fehlt die Angabe (nicht im Screenshot). Glaube die Angabe war zirka so.\n",
    "In der Tabelle **tbl_person(id: int, name: varchar(255))** sind Personen gespeichert. Lesen Sie mittels der gegebenen Methode **AdoTemplate.Query** die Personen aus **tbl_person** aus und speichern Sie dise in **allPersons**.\n",
    "\n",
    "```\n",
    "record Person(int Id, string Name);\n",
    "\n",
    "public delegate T RowMapper<T>(IDataRecord row);\n",
    "\n",
    "public class AdoTemplate\n",
    "{\n",
    "    public IEnumerable<T> Query<T>(string sql, RowMapper<T> rowMapper) { ... }\n",
    "}\n",
    "\n",
    "IEnumerable<Person> allPersons = ...\n",
    "```"
   ]
  },
  {
   "cell_type": "code",
   "execution_count": null,
   "metadata": {
    "dotnet_interactive": {
     "language": "csharp"
    },
    "polyglot_notebook": {
     "kernelName": "csharp"
    },
    "vscode": {
     "languageId": "polyglot-notebook"
    }
   },
   "outputs": [],
   "source": [
    "// Hier der Code für das Beispiel \n",
    "// (Query-Anfrage und Rowmapper sollten gemacht werden)."
   ]
  },
  {
   "cell_type": "markdown",
   "metadata": {},
   "source": [
    "### Beispiel\n",
    "Gegeben ist eine Liste von Dateien:\n",
    "\n",
    "```\n",
    "public class File\n",
    "{\n",
    "    public string Path { get; set; }\n",
    "    public long SizeInBytes { get; set; }\n",
    "}\n",
    "\n",
    "IEnumerable<File> files = GetFiles();\n",
    "\n",
    "```\n",
    "\n",
    "Geben Sie die Namen aller Dateien, die größer als 1 MB sind, alphabetisch sortiert auf die Konsole aus. Verwenden Sie dazu soweit wie möglich LINQ."
   ]
  },
  {
   "cell_type": "code",
   "execution_count": null,
   "metadata": {
    "dotnet_interactive": {
     "language": "csharp"
    },
    "polyglot_notebook": {
     "kernelName": "csharp"
    },
    "vscode": {
     "languageId": "polyglot-notebook"
    }
   },
   "outputs": [],
   "source": [
    "// Hier der Code"
   ]
  },
  {
   "cell_type": "markdown",
   "metadata": {},
   "source": [
    "### Beispiel\n",
    "Eine Klasse **Person** ist folgendermaßen definiert:\n",
    "\n",
    "```\n",
    "delegate void BirthdayHandler(int age);\n",
    "\n",
    "public class Person \n",
    "{\n",
    "    // \n",
    "    // TODO (1a)\n",
    "    //\n",
    "    public DateTime Birthday { get; init; }\n",
    "\n",
    "    private void CheckBirthday()\n",
    "    {\n",
    "        bool hasBirthday = DateTime.Now.DayOfYear == BirthDay.DayOfYear;\n",
    "        int age = DateTime.Now.Year - BirthDay.Year;\n",
    "        //\n",
    "        // TODO (1b)\n",
    "        //\n",
    "    }\n",
    "\n",
    "}\n",
    "\n",
    "```\n",
    "\n",
    "1. Fügen Sie zu **Person** ein Event **OnBirthday** hinzu (1a) und komplettieren Sie die Methode **CheckBirthday** (1b), welche einmal pro Tag aufgerufen wird und das Event feuern soll, wenn die Person an diesem Tag Geburtstag hat.\n",
    "2. Registrieren Sie sich bei einer Person und gratulieren Sie dieser mittels einer Konsolenausgabe (mit Altersangabe), sobald diese Geburtstag hat."
   ]
  },
  {
   "cell_type": "code",
   "execution_count": null,
   "metadata": {
    "dotnet_interactive": {
     "language": "csharp"
    },
    "polyglot_notebook": {
     "kernelName": "csharp"
    },
    "vscode": {
     "languageId": "polyglot-notebook"
    }
   },
   "outputs": [],
   "source": [
    "// Hier der Code für 1(a) und 1(b), sowie 2"
   ]
  },
  {
   "cell_type": "markdown",
   "metadata": {},
   "source": [
    "### Beispiel\n",
    "Gehen Sie von folgendem Controller aus:\n",
    "```\n",
    "[Route(\"warehouse/[controller]\")]\n",
    "public class ArticlesController : ControllerBase\n",
    "{\n",
    "    [HttpGet(\"{id}\")]\n",
    "    public ArticleDTO GetArticle(int id) { ... }\n",
    "}\n",
    "```\n",
    "Mit welcher URL kann die Methode GetProduct angesprochen werden?\n",
    "\n",
    "- [x] https://localhost:5000/warehouse/articles/123\n",
    "- [ ] https://localhost:5000/api/articles/123\n",
    "- [ ] https://localhost:5000/warehouse/123\n",
    "- [ ] https://localhost:5000/warehouse"
   ]
  },
  {
   "cell_type": "markdown",
   "metadata": {},
   "source": [
    "### Beispiel\n",
    "Hierfür habe ich leider die Angabe nicht fotografiert - es war in etwa: Gegeben ist folgende Klasse **Day**\n",
    "```\n",
    "{\n",
    "    public DayViewModel SelectedDay { get; set; }\n",
    "    public IEnumerable<DayViewModel> Days { get; set; }\n",
    "}\n",
    "```\n",
    "\n",
    "Welchen Datentyp hat der **DataContext** an der markierten Stelle?\n",
    "```\n",
    "<Window>\n",
    "    <ListBox ItemSource=\"{Binding Days}\">\n",
    "        <ListBox.ItemTemplate>\n",
    "            <DataTemplate>\n",
    "                <!-- DataContext? -->\n",
    "            </DataTemplate>\n",
    "        </ListBox.ItemTemplate>\n",
    "    </ListBox>\n",
    "</Window>\n",
    "```\n",
    "- [ ] IEnumerable<DayViewModel>\n",
    "- [ ] Days\n",
    "- [ ] object\n",
    "- [ ] ListBoxItem\n",
    "- [ ] CalendarViewModel\n",
    "- [ ] SelectedDays\n",
    "- [x] DayViewModel"
   ]
  },
  {
   "cell_type": "markdown",
   "metadata": {},
   "source": [
    "### Beispiel\n",
    "\n",
    "ApiController: Service wird folgender Request geschickt:\n",
    "\n",
    "POST api/articles\n",
    "Content-Type: application/json\n",
    "{\n",
    "    \"ArticleCode\": \"A7615\",\n",
    "    \"Description\": \"Book: C# for Dummies\"\n",
    "}\n",
    "\n",
    "- Implementieren Sie eine dazu passende Controller Methode inklusive der erforderlichen Attribute (nur die Methode, keine Klasse erforderlich).\n",
    "- Sollte es bereits einen Artikel mit dem selben ArticleCode geben, soll der Client mittels Statuscode (409 Conflict) benachrichtigt werden.\n",
    "- Liefern Sie im ERfolgsfall einen StatusCode 201 (oder 200) mit leerem Body zurück - der Location-Header muss nicht gesetzt sein.\n",
    "\n",
    "Sie können folgenden Code und Geschäftslogikmethoden, sowie eine Instanz von IArticleLogic voraussetzen:\n",
    "\n",
    "```\n",
    "public class Article\n",
    "{\n",
    "    public string ArticleCode { get; set; }\n",
    "    public string Description { get; set; }\n",
    "}\n",
    "\n",
    "public interface IArticleLogic\n",
    "{\n",
    "    Task<bool> ArticleExistsAsync(string articleCode);\n",
    "    Task CreateArticleAsync(Article article);\n",
    "}\n",
    "\n",
    "```"
   ]
  },
  {
   "cell_type": "code",
   "execution_count": null,
   "metadata": {
    "dotnet_interactive": {
     "language": "csharp"
    },
    "polyglot_notebook": {
     "kernelName": "csharp"
    },
    "vscode": {
     "languageId": "polyglot-notebook"
    }
   },
   "outputs": [],
   "source": [
    "// Hier der Code für das Beispiel"
   ]
  }
 ],
 "metadata": {
  "language_info": {
   "name": "python"
  }
 },
 "nbformat": 4,
 "nbformat_minor": 2
}
