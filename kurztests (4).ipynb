{
 "cells": [
  {
   "cell_type": "markdown",
   "metadata": {},
   "source": [
    "# Kurztests SWK5UE WS23/24\n"
   ]
  },
  {
   "cell_type": "markdown",
   "metadata": {},
   "source": [
    "## Kurztest 1 - Nachtermin"
   ]
  },
  {
   "cell_type": "markdown",
   "metadata": {},
   "source": [
    "### Ski-Rennen - Ergebnisauswertung\n",
    "Gegeben sind folgende Typen, die das Ergebnis eines Ski-Rennens abbilden.\n",
    "\n",
    "```\n",
    "public record Result(\n",
    "    string Racer,       // Name Teilnehmer:in\n",
    "    long Time,          // benötigte Zeit in Millisekunden\n",
    "    bool Finished       // Rennen erfolgreich beendet?\n",
    ");\n",
    "```\n",
    "\n",
    "```\n",
    "public Class SkiRace\n",
    "{\n",
    "    private List<Result> results; // bereits befüllt\n",
    "    ...\n",
    "}\n",
    "```\n"
   ]
  },
  {
   "cell_type": "markdown",
   "metadata": {},
   "source": [
    "### Beispiel\n",
    "a) Komplettieren Sie die gegebene Methode GetRanking(Klasse SkiRace), welche die (nach Zeit aufsteigend sortierte) Rangliste für das Rennen ermittelt. Es sollen nur Teilnehmer:innen berücksichtigt werden, die das Rennen erfolgreich beendet haben (Finished).\n",
    "\n",
    "Verwenden Sie dazu so weit wie möglich LINQ (Query- oder/und Method-Syntax).\n",
    "\n",
    "Hinweis: Sie können davon ausgehen, dass keine Zeit (Time) mehrfach vorkommt.\n",
    "\n",
    "```\n",
    "public record RankingInfo(string Racer, long Time);\n",
    "\n",
    "public List<RankingInfo> GetRanking()\n",
    "{\n",
    "```"
   ]
  },
  {
   "cell_type": "code",
   "execution_count": 1,
   "metadata": {
    "dotnet_interactive": {
     "language": "csharp"
    },
    "polyglot_notebook": {
     "kernelName": "csharp"
    },
    "vscode": {
     "languageId": "polyglot-notebook"
    }
   },
   "outputs": [],
   "source": [
    "// hier der Code für 1(a)"
   ]
  },
  {
   "cell_type": "markdown",
   "metadata": {},
   "source": [
    "```}```"
   ]
  },
  {
   "cell_type": "markdown",
   "metadata": {},
   "source": [
    "### Beispiel\n",
    "b) Implementieren Sie eine Erweiterungsmethode (Extension Method) **GetRacersWithPoints** für den Typ SkiRace, welche auf Basis der Daten von GetRanking die Namen der Läufer:innen liefert, welche Weltcup-Punkte erreicht haben (> 0 Punkte).\n",
    "\n",
    "Als Argument wird eine Delegate-Instanz vom Typ Func<int, int> übergeben, welche für eine Renn-Position (Platzierung) die entsprechende Weltcup-Punkte liefert.\n",
    "\n",
    "Die Verwendung soll folgendermaßen möglich sein:\n",
    "```\n",
    "Func<int, int> mapPositionToPoints = ...; // gegeben\n",
    "\n",
    "var skiRace = new SkiRace();\n",
    "\n",
    "IEnumerable<string> racers = skiRace.getRacersWithPoints(mapPositionToPoints);\n",
    "\n",
    "```"
   ]
  },
  {
   "cell_type": "code",
   "execution_count": null,
   "metadata": {
    "dotnet_interactive": {
     "language": "csharp"
    },
    "polyglot_notebook": {
     "kernelName": "csharp"
    },
    "vscode": {
     "languageId": "polyglot-notebook"
    }
   },
   "outputs": [],
   "source": [
    "// hier der Code für 1(b)"
   ]
  },
  {
   "cell_type": "markdown",
   "metadata": {},
   "source": [
    "### Beispiel\n",
    "c) Implementieren Sie die **asynchrone** Methode ``PrintCertificatesAsync`` (für die Klasse SkiRace), welche für jede(n) erfolgreiche(n) Läufer:in (auf Basis der Daten von GetRanking) unter Zuhilfenahme der Klasse ``Printer``(gegeben) jeweils eine Urkunde ausdruckt. Aufrufer von ``PrintCertificatesAsync`` sollen die Anzahl der gedruckten Urkunden mitgeteilt bekommen.\n",
    "\n",
    "```\n",
    "public class Printer : IDisposable {\n",
    "    public Task PrintAsync(string racer) {...}\n",
    "}\n",
    "```"
   ]
  },
  {
   "cell_type": "code",
   "execution_count": null,
   "metadata": {
    "dotnet_interactive": {
     "language": "csharp"
    },
    "polyglot_notebook": {
     "kernelName": "csharp"
    },
    "vscode": {
     "languageId": "polyglot-notebook"
    }
   },
   "outputs": [],
   "source": [
    "// hier der Code für 1(c)"
   ]
  },
  {
   "cell_type": "markdown",
   "metadata": {},
   "source": [
    "## Kurztest 2"
   ]
  },
  {
   "cell_type": "markdown",
   "metadata": {},
   "source": [
    "### Beispiel\n",
    "Hier fehlt die Angabe (nicht im Screenshot). Glaube die Angabe war zirka so.\n",
    "In der Tabelle **tbl_person(id: int, name: varchar(255))** sind Personen gespeichert. Lesen Sie mittels der gegebenen Methode **AdoTemplate.Query** die Personen aus **tbl_person** aus und speichern Sie dise in **allPersons**.\n",
    "\n",
    "```\n",
    "record Person(int Id, string Name);\n",
    "\n",
    "public delegate T RowMapper<T>(IDataRecord row);\n",
    "\n",
    "public class AdoTemplate\n",
    "{\n",
    "    public IEnumerable<T> Query<T>(string sql, RowMapper<T> rowMapper) { ... }\n",
    "}\n",
    "\n",
    "IEnumerable<Person> allPersons = ...\n",
    "```"
   ]
  },
  {
   "cell_type": "code",
   "execution_count": null,
   "metadata": {
    "dotnet_interactive": {
     "language": "csharp"
    },
    "polyglot_notebook": {
     "kernelName": "csharp"
    },
    "vscode": {
     "languageId": "polyglot-notebook"
    }
   },
   "outputs": [],
   "source": [
    "// Hier der Code für das Beispiel \n",
    "// (Query-Anfrage und Rowmapper sollten gemacht werden).\n",
    "\n",
    "// implements something like IEnumerable<Person> allPersons = _personRepository.GetAll();\n",
    "\n",
    "// in _personRepository\n",
    "public async Task<IEnumerable<Person>> GetAll()\n",
    "{\n",
    "    return _adoTemplate.Query<Person>(\"SELECT * FROM Person\", new PersonRowMapper());\n",
    "}\n",
    "\n",
    "// impl stub in adotempl see other KT version\n",
    "\n",
    "// in PersonRowMapper\n",
    "public Person MapRow(IDataRecord record)\n",
    "{\n",
    "    return new Person\n",
    "    {\n",
    "        Id = record.GetInt32(0),\n",
    "        FirstName = record.GetString(1),\n",
    "        LastName = record.GetString(2),\n",
    "        BirthDate = record.GetDateTime(3)\n",
    "    };\n",
    "}"
   ]
  },
  {
   "cell_type": "markdown",
   "metadata": {},
   "source": [
    "### Beispiel\n",
    "Gegeben ist eine Liste von Dateien:\n",
    "\n",
    "```\n",
    "public class File\n",
    "{\n",
    "    public string Path { get; set; }\n",
    "    public long SizeInBytes { get; set; }\n",
    "}\n",
    "\n",
    "IEnumerable<File> files = GetFiles();\n",
    "\n",
    "```\n",
    "\n",
    "Geben Sie die Namen aller Dateien, die größer als 1 MB sind, alphabetisch sortiert auf die Konsole aus. Verwenden Sie dazu soweit wie möglich LINQ."
   ]
  },
  {
   "cell_type": "code",
   "execution_count": 5,
   "metadata": {
    "dotnet_interactive": {
     "language": "csharp"
    },
    "polyglot_notebook": {
     "kernelName": "csharp"
    },
    "vscode": {
     "languageId": "polyglot-notebook"
    }
   },
   "outputs": [
    {
     "name": "stdout",
     "output_type": "stream",
     "text": [
      "file2.txt\n",
      "file3.txt\n",
      "file4.txt\n",
      "file5.txt\n"
     ]
    }
   ],
   "source": [
    "// Hier der Code\n",
    "\n",
    "public class File\n",
    "{\n",
    "    public string Path { get; set; }\n",
    "    public long SizeInBytes { get; set; }\n",
    "}\n",
    "\n",
    "var files = new List<File>\n",
    "{\n",
    "    new File { Path = \"C:\\\\Temp\\\\file1.txt\", SizeInBytes = 1000000 },\n",
    "    new File { Path = \"C:\\\\Temp\\\\file2.txt\", SizeInBytes = 2000000 },\n",
    "    new File { Path = \"C:\\\\Temp\\\\file3.txt\", SizeInBytes = 3000000 },\n",
    "    new File { Path = \"C:\\\\Temp\\\\file4.txt\", SizeInBytes = 4000000 },\n",
    "    new File { Path = \"C:\\\\Temp\\\\file5.txt\", SizeInBytes = 5000000 }\n",
    "};\n",
    "\n",
    "var query = from file in files where file.SizeInBytes > 1000000 orderby System.IO.Path.GetFileName(file.Path) select System.IO.Path.GetFileName(file.Path);\n",
    "IEnumerable<String> fileNames = query.ToList();\n",
    "\n",
    "foreach (var fileName in fileNames)\n",
    "{\n",
    "    Console.WriteLine(fileName);\n",
    "}"
   ]
  },
  {
   "cell_type": "markdown",
   "metadata": {},
   "source": [
    "### Beispiel\n",
    "Eine Klasse **Person** ist folgendermaßen definiert:\n",
    "\n",
    "```\n",
    "delegate void BirthdayHandler(int age);\n",
    "\n",
    "public class Person \n",
    "{\n",
    "    // \n",
    "    // TODO (1a)\n",
    "    //\n",
    "    public DateTime Birthday { get; init; }\n",
    "\n",
    "    private void CheckBirthday()\n",
    "    {\n",
    "        bool hasBirthday = DateTime.Now.DayOfYear == BirthDay.DayOfYear;\n",
    "        int age = DateTime.Now.Year - BirthDay.Year;\n",
    "        //\n",
    "        // TODO (1b)\n",
    "        //\n",
    "    }\n",
    "\n",
    "}\n",
    "\n",
    "```\n",
    "\n",
    "1. Fügen Sie zu **Person** ein Event **OnBirthday** hinzu (1a) und komplettieren Sie die Methode **CheckBirthday** (1b), welche einmal pro Tag aufgerufen wird und das Event feuern soll, wenn die Person an diesem Tag Geburtstag hat.\n",
    "2. Registrieren Sie sich bei einer Person und gratulieren Sie dieser mittels einer Konsolenausgabe (mit Altersangabe), sobald diese Geburtstag hat."
   ]
  },
  {
   "cell_type": "code",
   "execution_count": null,
   "metadata": {
    "dotnet_interactive": {
     "language": "csharp"
    },
    "polyglot_notebook": {
     "kernelName": "csharp"
    },
    "vscode": {
     "languageId": "polyglot-notebook"
    }
   },
   "outputs": [
    {
     "ename": "Error",
     "evalue": "(16,59): error CS1061: 'Person' does not contain a definition for 'BirthDay' and no accessible extension method 'BirthDay' accepting a first argument of type 'Person' could be found (are you missing a using directive or an assembly reference?)\r\n(17,44): error CS1061: 'Person' does not contain a definition for 'BirthDay' and no accessible extension method 'BirthDay' accepting a first argument of type 'Person' could be found (are you missing a using directive or an assembly reference?)",
     "output_type": "error",
     "traceback": [
      "(16,59): error CS1061: 'Person' does not contain a definition for 'BirthDay' and no accessible extension method 'BirthDay' accepting a first argument of type 'Person' could be found (are you missing a using directive or an assembly reference?)\r\n",
      "(17,44): error CS1061: 'Person' does not contain a definition for 'BirthDay' and no accessible extension method 'BirthDay' accepting a first argument of type 'Person' could be found (are you missing a using directive or an assembly reference?)"
     ]
    }
   ],
   "source": [
    "// Hier der Code für 1(a) und 1(b), sowie 2\n",
    "\n",
    "public delegate void BirthdayHandler(int age);\n",
    "\n",
    "public class Person \n",
    "{\n",
    "    // \n",
    "    // TODO (1a)\n",
    "    //\n",
    "    public event BirthdayHandler BirthdayEvent;\n",
    "\n",
    "    public DateTime Birthday { get; init; }\n",
    "\n",
    "    public void CheckBirthday()\n",
    "    {\n",
    "        bool hasBirthday = DateTime.Now.DayOfYear == BirthDay.DayOfYear;\n",
    "        int age = DateTime.Now.Year - BirthDay.Year;\n",
    "        //\n",
    "        // TODO (1b)\n",
    "        //\n",
    "        if (hasBirthday)\n",
    "        {\n",
    "            BirthdayEvent?.Invoke(age);\n",
    "        }\n",
    "    }\n",
    "}\n",
    "\n",
    "Person p = new Person { Birthday = new DateTime(2000, 01, 10) };\n",
    "\n",
    "p.BirthdayEvent += (age) => Console.WriteLine($\"Happy Birthday! You are {age} years old!\");"
   ]
  },
  {
   "cell_type": "markdown",
   "metadata": {},
   "source": [
    "### Beispiel\n",
    "Gehen Sie von folgendem Controller aus:\n",
    "```\n",
    "[Route(\"warehouse/[controller]\")]\n",
    "public class ArticlesController : ControllerBase\n",
    "{\n",
    "    [HttpGet(\"{id}\")]\n",
    "    public ArticleDTO GetArticle(int id) { ... }\n",
    "}\n",
    "```\n",
    "Mit welcher URL kann die Methode GetProduct angesprochen werden?\n",
    "\n",
    "- [x] https://localhost:5000/warehouse/articles/123\n",
    "- [ ] https://localhost:5000/api/articles/123\n",
    "- [ ] https://localhost:5000/warehouse/123\n",
    "- [ ] https://localhost:5000/warehouse"
   ]
  },
  {
   "cell_type": "markdown",
   "metadata": {},
   "source": [
    "### Beispiel\n",
    "Hierfür habe ich leider die Angabe nicht fotografiert - es war in etwa: Gegeben ist folgende Klasse **Day**\n",
    "```\n",
    "{\n",
    "    public DayViewModel SelectedDay { get; set; }\n",
    "    public IEnumerable<DayViewModel> Days { get; set; }\n",
    "}\n",
    "```\n",
    "\n",
    "Welchen Datentyp hat der **DataContext** an der markierten Stelle?\n",
    "```\n",
    "<Window>\n",
    "    <ListBox ItemSource=\"{Binding Days}\">\n",
    "        <ListBox.ItemTemplate>\n",
    "            <DataTemplate>\n",
    "                <!-- DataContext? -->\n",
    "            </DataTemplate>\n",
    "        </ListBox.ItemTemplate>\n",
    "    </ListBox>\n",
    "</Window>\n",
    "```\n",
    "- [ ] IEnumerable<DayViewModel>\n",
    "- [ ] Days\n",
    "- [ ] object\n",
    "- [ ] ListBoxItem\n",
    "- [ ] CalendarViewModel\n",
    "- [ ] SelectedDays\n",
    "- [x] DayViewModel"
   ]
  },
  {
   "cell_type": "markdown",
   "metadata": {},
   "source": [
    "### Beispiel\n",
    "\n",
    "ApiController: Service wird folgender Request geschickt:\n",
    "\n",
    "POST api/articles\n",
    "Content-Type: application/json\n",
    "{\n",
    "    \"ArticleCode\": \"A7615\",\n",
    "    \"Description\": \"Book: C# for Dummies\"\n",
    "}\n",
    "\n",
    "- Implementieren Sie eine dazu passende Controller Methode inklusive der erforderlichen Attribute (nur die Methode, keine Klasse erforderlich).\n",
    "- Sollte es bereits einen Artikel mit dem selben ArticleCode geben, soll der Client mittels Statuscode (409 Conflict) benachrichtigt werden.\n",
    "- Liefern Sie im ERfolgsfall einen StatusCode 201 (oder 200) mit leerem Body zurück - der Location-Header muss nicht gesetzt sein.\n",
    "\n",
    "Sie können folgenden Code und Geschäftslogikmethoden, sowie eine Instanz von IArticleLogic voraussetzen:\n",
    "\n",
    "```\n",
    "public class Article\n",
    "{\n",
    "    public string ArticleCode { get; set; }\n",
    "    public string Description { get; set; }\n",
    "}\n",
    "\n",
    "public interface IArticleLogic\n",
    "{\n",
    "    Task<bool> ArticleExistsAsync(string articleCode);\n",
    "    Task CreateArticleAsync(Article article);\n",
    "}\n",
    "\n",
    "```"
   ]
  },
  {
   "cell_type": "code",
   "execution_count": null,
   "metadata": {
    "dotnet_interactive": {
     "language": "csharp"
    },
    "polyglot_notebook": {
     "kernelName": "csharp"
    },
    "vscode": {
     "languageId": "polyglot-notebook"
    }
   },
   "outputs": [],
   "source": [
    "[HttpPost(\"api/articles\")]\n",
    "[ProducesResponseType(StatusCodes.Status200OK)]\n",
    "[ProducesResponseType(StatusCodes.Status409Conflict)]\n",
    "[ProducesResponseType(StatusCodes.Status400BadRequest)]\n",
    "public async Task<IActionResult> AddBook([FromBody] Artcile article)\n",
    "{\n",
    "    if (article == null || string.IsNullOrWhiteSpace(article.ArticleCode))\n",
    "    {\n",
    "        return BadRequest(\"Invalid article data.\");\n",
    "    }\n",
    "\n",
    "    if (await _articleLogic.ArticleExistsAsync(article.ArticleCode))\n",
    "    {\n",
    "        return Conflict($\"An article with code '{article.ArticleCode}' already exists.\");\n",
    "    }\n",
    "\n",
    "    await _articleLogic.CreateArticleAsync(article);\n",
    "\n",
    "    return StatusCode(StatusCodes.Status201Created);\n",
    "}"
   ]
  }
 ],
 "metadata": {
  "kernelspec": {
   "display_name": ".NET (C#)",
   "language": "C#",
   "name": ".net-csharp"
  },
  "language_info": {
   "name": "python"
  },
  "polyglot_notebook": {
   "kernelInfo": {
    "defaultKernelName": "csharp",
    "items": [
     {
      "aliases": [],
      "name": "csharp"
     }
    ]
   }
  }
 },
 "nbformat": 4,
 "nbformat_minor": 2
}
