{
 "cells": [
  {
   "cell_type": "markdown",
   "metadata": {},
   "source": [
    "# Kurztests SWK5UE WS23/24\n"
   ]
  },
  {
   "cell_type": "markdown",
   "metadata": {},
   "source": [
    "## Kurztest 1 - Nachtermin"
   ]
  },
  {
   "cell_type": "markdown",
   "metadata": {},
   "source": [
    "### Ski-Rennen - Ergebnisauswertung\n",
    "Gegeben sind folgende Typen, die das Ergebnis eines Ski-Rennens abbilden."
   ]
  },
  {
   "cell_type": "code",
   "execution_count": 2,
   "metadata": {
    "dotnet_interactive": {
     "language": "csharp"
    },
    "polyglot_notebook": {
     "kernelName": "csharp"
    },
    "vscode": {
     "languageId": "polyglot-notebook"
    }
   },
   "outputs": [],
   "source": [
    "public record Result(\n",
    "    string Racer,       // Name Teilnehmer:in\n",
    "    long Time,          // benötigte Zeit in Millisekunden\n",
    "    bool Finished       // Rennen erfolgreich beendet?\n",
    ");\n",
    "\n",
    "public record RankingInfo(string Racer, long Time);\n",
    "\n",
    "public class SkiRace\n",
    "{\n",
    "    protected List<Result> results = new(); // bereits befüllt\n",
    "\n",
    "    public void AddResult(string racer, long time, bool finished)\n",
    "    {\n",
    "        results.Add(new Result(racer, time, finished));\n",
    "    }\n",
    "\n",
    "\tpublic List<RankingInfo> GetRanking()\n",
    "\t{\n",
    "\t\tvar res = \tfrom result in this.results\n",
    "\t\t\t\t\twhere result.Finished == true\n",
    "\t\t\t\t\torderby result.Time\n",
    "\t\t\t\t\tselect new RankingInfo\n",
    "\t\t\t\t\t(\n",
    "\t\t\t\t\t\tresult.Racer,\n",
    "\t\t\t\t\t\tresult.Time\n",
    "\t\t\t\t\t);\n",
    "\n",
    "\t\treturn res.ToList<RankingInfo>();\n",
    "\t}\n",
    "}\n"
   ]
  },
  {
   "cell_type": "markdown",
   "metadata": {},
   "source": [
    "### Beispiel\n",
    "a) Komplettieren Sie die gegebene Methode GetRanking(Klasse SkiRace), welche die (nach Zeit aufsteigend sortierte) Rangliste für das Rennen ermittelt. Es sollen nur Teilnehmer:innen berücksichtigt werden, die das Rennen erfolgreich beendet haben (Finished).\n",
    "\n",
    "Verwenden Sie dazu so weit wie möglich LINQ (Query- oder/und Method-Syntax).\n",
    "\n",
    "Hinweis: Sie können davon ausgehen, dass keine Zeit (Time) mehrfach vorkommt.\n",
    "\n",
    "```\n",
    "public record RankingInfo(string Racer, long Time);\n",
    "\n",
    "public List<RankingInfo> GetRanking()\n",
    "{\n",
    "```"
   ]
  },
  {
   "cell_type": "code",
   "execution_count": 3,
   "metadata": {
    "dotnet_interactive": {
     "language": "csharp"
    },
    "polyglot_notebook": {
     "kernelName": "csharp"
    },
    "vscode": {
     "languageId": "polyglot-notebook"
    }
   },
   "outputs": [
    {
     "name": "stdout",
     "output_type": "stream",
     "text": [
      "RankingInfo { Racer = Franz Klammer, Time = 10 }\n",
      "RankingInfo { Racer = Patrik Ortlieb, Time = 12 }\n",
      "RankingInfo { Racer = Sepp Forcher, Time = 13 }\n",
      "RankingInfo { Racer = Hansi Hinterseer, Time = 14 }\n"
     ]
    }
   ],
   "source": [
    "SkiRace race = new();\n",
    "\n",
    "race.AddResult(\"Franz Klammer\", 10, true);\n",
    "race.AddResult(\"Sepp Forcher\", 13, true);\n",
    "race.AddResult(\"Hansi Hinterseer\", 14, true);\n",
    "race.AddResult(\"Patrik Ortlieb\", 12, true);\n",
    "race.AddResult(\"Hermann Maier\", 11, false);\n",
    "\n",
    "var results = race.GetRanking();\n",
    "foreach (var result in results)\n",
    "{\n",
    "\tConsole.WriteLine(result);\n",
    "}\n"
   ]
  },
  {
   "cell_type": "markdown",
   "metadata": {},
   "source": [
    "```}```"
   ]
  },
  {
   "cell_type": "markdown",
   "metadata": {},
   "source": [
    "### Beispiel\n",
    "b) Implementieren Sie eine Erweiterungsmethode (Extension Method) **GetRacersWithPoints** für den Typ SkiRace, welche auf Basis der Daten von GetRanking die Namen der Läufer:innen liefert, welche Weltcup-Punkte erreicht haben (> 0 Punkte).\n",
    "\n",
    "Als Argument wird eine Delegate-Instanz vom Typ Func<int, int> übergeben, welche für eine Renn-Position (Platzierung) die entsprechende Weltcup-Punkte liefert.\n",
    "\n",
    "Die Verwendung soll folgendermaßen möglich sein:\n",
    "```\n",
    "Func<int, int> mapPositionToPoints = ...; // gegeben\n",
    "\n",
    "var skiRace = new SkiRace();\n",
    "\n",
    "IEnumerable<string> racers = skiRace.getRacersWithPoints(mapPositionToPoints);\n",
    "\n",
    "```"
   ]
  },
  {
   "cell_type": "code",
   "execution_count": 4,
   "metadata": {
    "dotnet_interactive": {
     "language": "csharp"
    },
    "polyglot_notebook": {
     "kernelName": "csharp"
    },
    "vscode": {
     "languageId": "polyglot-notebook"
    }
   },
   "outputs": [
    {
     "name": "stdout",
     "output_type": "stream",
     "text": [
      "Franz Klammer\n",
      "Patrik Ortlieb\n",
      "Sepp Forcher\n"
     ]
    }
   ],
   "source": [
    "public int mapPositionToPoints(int ranking)\n",
    "{\n",
    "    switch (ranking)\n",
    "    {\n",
    "        case 1:\treturn 100;\n",
    "        case 2: return 80;\n",
    "    \tcase 3: return 60;\n",
    "        // case 4: return 50;\n",
    "        // case 5: return 45;\n",
    "        // case 6: return 40;\n",
    "        // case 7: return 36;\n",
    "        // case 8: return 32;\n",
    "        // case 9: return 29;\n",
    "        // case 10: return 26;\n",
    "\n",
    "        default: return 0; // Return 0 points for ranks beyond 10th place\n",
    "    }\n",
    "}\n",
    "\n",
    "static IEnumerable<string> GetRacersWithPoints (this SkiRace race, Func<int, int> arg)\n",
    "{\n",
    "\tList<string> racersWithPoints = new();\n",
    "\tvar results = race.GetRanking();\n",
    "\tint idx = 1;\n",
    "\tforeach (var racer in results)\n",
    "\t{\n",
    "\t\tif (arg(idx) > 0) {\n",
    "\t\t\tracersWithPoints.Add(racer.Racer);\n",
    "\t\t}\n",
    "\t\tidx++;\n",
    "\t}\n",
    "\treturn racersWithPoints;\n",
    "}\n",
    "\n",
    "IEnumerable<string> racers = race.GetRacersWithPoints(mapPositionToPoints);\n",
    "\n",
    "foreach (var racer in racers)\n",
    "{\n",
    "\tConsole.WriteLine(racer);\n",
    "}\n",
    "\n"
   ]
  },
  {
   "cell_type": "markdown",
   "metadata": {},
   "source": [
    "### Beispiel\n",
    "c) Implementieren Sie die **asynchrone** Methode ``PrintCertificatesAsync`` (für die Klasse SkiRace), welche für jede(n) erfolgreiche(n) Läufer:in (auf Basis der Daten von GetRanking) unter Zuhilfenahme der Klasse ``Printer``(gegeben) jeweils eine Urkunde ausdruckt. Aufrufer von ``PrintCertificatesAsync`` sollen die Anzahl der gedruckten Urkunden mitgeteilt bekommen.\n",
    "\n",
    "```\n",
    "public class Printer : IDisposable {\n",
    "    public Task PrintAsync(string racer) {...}\n",
    "}\n",
    "```"
   ]
  },
  {
   "cell_type": "code",
   "execution_count": 5,
   "metadata": {
    "dotnet_interactive": {
     "language": "csharp"
    },
    "polyglot_notebook": {
     "kernelName": "csharp"
    },
    "vscode": {
     "languageId": "polyglot-notebook"
    }
   },
   "outputs": [
    {
     "name": "stdout",
     "output_type": "stream",
     "text": [
      "Printing racer: Franz Klammer\n",
      "Printed racer: Franz Klammer\n",
      "\n",
      "Printing racer: Patrik Ortlieb\n",
      "Printed racer: Patrik Ortlieb\n",
      "\n",
      "Printing racer: Sepp Forcher\n",
      "Printed racer: Sepp Forcher\n",
      "\n",
      "Printing racer: Hansi Hinterseer\n",
      "Printed racer: Hansi Hinterseer\n",
      "\n",
      "4 certificates printed.\n"
     ]
    }
   ],
   "source": [
    "public class Printer : IDisposable {\n",
    "\tpublic void Dispose() { }\n",
    "    public async Task PrintAsync(string racer) \n",
    "\t{\n",
    "        Console.WriteLine($\"Printing racer: {racer}\");\n",
    "        await Task.Delay(1000); // Simulate printing delay\n",
    "        Console.WriteLine($\"Printed racer: {racer}\\n\");\n",
    "\t}\n",
    "}\n",
    "\n",
    "static async Task<int> PrintCertificatesAsync(this SkiRace race)\n",
    "{\n",
    "\tvar racers = race.GetRanking();\n",
    "\tint cnt = 0;\n",
    "\tusing (var printer = new Printer())\n",
    "\t{\n",
    "\t\tforeach (var racer in racers) {\n",
    "\t\t\tawait printer.PrintAsync(racer.Racer);\n",
    "\t\t\tcnt++;\n",
    "\t\t}\n",
    "\t}\n",
    "\treturn cnt;\n",
    "}\n",
    "\n",
    "var count = await race.PrintCertificatesAsync();\n",
    "Console.WriteLine($\"{count} certificates printed.\")"
   ]
  },
  {
   "cell_type": "markdown",
   "metadata": {},
   "source": [
    "## Kurztest 2"
   ]
  },
  {
   "cell_type": "markdown",
   "metadata": {},
   "source": [
    "### Beispiel\n",
    "Hier fehlt die Angabe (nicht im Screenshot). Glaube die Angabe war zirka so.\n",
    "In der Tabelle **tbl_person(id: int, name: varchar(255))** sind Personen gespeichert. Lesen Sie mittels der gegebenen Methode **AdoTemplate.Query** die Personen aus **tbl_person** aus und speichern Sie diese in **allPersons**.\n",
    "\n",
    "```\n",
    "record Person(int Id, string Name);\n",
    "\n",
    "public delegate T RowMapper<T>(IDataRecord row);\n",
    "\n",
    "public class AdoTemplate\n",
    "{\n",
    "    public IEnumerable<T> Query<T>(string sql, RowMapper<T> rowMapper) { ... }\n",
    "}\n",
    "\n",
    "IEnumerable<Person> allPersons = ...\n",
    "```"
   ]
  },
  {
   "cell_type": "code",
   "execution_count": 6,
   "metadata": {
    "dotnet_interactive": {
     "language": "csharp"
    },
    "polyglot_notebook": {
     "kernelName": "csharp"
    },
    "vscode": {
     "languageId": "polyglot-notebook"
    }
   },
   "outputs": [],
   "source": [
    "using System.Data;\n",
    "record Person(int Id, string Name);\n",
    "public delegate T RowMapper<T>(IDataRecord row);\n",
    "\n",
    "private Person MapRowToPerson(IDataRecord row)\n",
    "=> new Person(\t(int)row[\"id\"],\n",
    "\t\t\t\t(string)row[\"name\"]);\n",
    "\n",
    "public class AdoTemplate\n",
    "{\n",
    "    public IEnumerable<T> Query<T>(string sql, RowMapper<T> rowMapper) \n",
    "\t{\n",
    "\t\treturn Enumerable.Empty<T>();\n",
    "\t}\n",
    "}\t\t\t\n",
    "\n",
    "AdoTemplate template = new();\n",
    "IEnumerable<Person> allPersons = template.Query<Person>(\"select * from tbl_person\", MapRowToPerson);\n",
    "\n",
    "// (Query-Anfrage und Rowmapper sollten gemacht werden)."
   ]
  },
  {
   "cell_type": "markdown",
   "metadata": {},
   "source": [
    "### Beispiel\n",
    "Gegeben ist eine Liste von Dateien:\n",
    "\n",
    "```\n",
    "public class File\n",
    "{\n",
    "    public string Path { get; set; }\n",
    "    public long SizeInBytes { get; set; }\n",
    "}\n",
    "\n",
    "IEnumerable<File> files = GetFiles();\n",
    "\n",
    "```\n",
    "\n",
    "Geben Sie die Namen aller Dateien, die größer als 1 MB sind, alphabetisch sortiert auf die Konsole aus. Verwenden Sie dazu soweit wie möglich LINQ."
   ]
  },
  {
   "cell_type": "code",
   "execution_count": 7,
   "metadata": {
    "dotnet_interactive": {
     "language": "csharp"
    },
    "polyglot_notebook": {
     "kernelName": "csharp"
    },
    "vscode": {
     "languageId": "polyglot-notebook"
    }
   },
   "outputs": [
    {
     "name": "stdout",
     "output_type": "stream",
     "text": [
      "Files larger than 1MB:\n",
      "file2.txt\n",
      "file3.txt\n"
     ]
    }
   ],
   "source": [
    "public class File\n",
    "{\n",
    "    public string Path { get; set; }\n",
    "    public long SizeInBytes { get; set; }\n",
    "}\n",
    "\n",
    "public static IEnumerable<File> GetFiles()\n",
    "{\n",
    "\treturn new List<File>\n",
    "\t{\n",
    "\t\tnew File { Path = \"file1.txt\", SizeInBytes = 500000 }, // 0.5 MB\n",
    "\t\tnew File { Path = \"file2.txt\", SizeInBytes = 1500000 }, // 1.5 MB\n",
    "\t\tnew File { Path = \"file3.txt\", SizeInBytes = 2000000 } // 2 MB\n",
    "\t};\n",
    "}\n",
    "\n",
    "IEnumerable<File> files = GetFiles();\n",
    "\n",
    "public static void WriteFilesLargerThan1MB(IEnumerable<File> files)\n",
    "{\n",
    "\tvar largerThan1MBFiles = from file in files\n",
    "\t\t\t\t\t\t\t\twhere file.SizeInBytes > 1024 * 1024 // 1 MB = 1024 * 1024 bytes\n",
    "\t\t\t\t\t\t\t\torderby file.Path\n",
    "\t\t\t\t\t\t\t\tselect file.Path;\n",
    "\n",
    "\tConsole.WriteLine(\"Files larger than 1MB:\");\n",
    "\tforeach (var filePath in largerThan1MBFiles)\n",
    "\t{\n",
    "\t\tConsole.WriteLine(filePath);\n",
    "\t}\n",
    "}\n",
    "\n",
    "WriteFilesLargerThan1MB(files);\n",
    "\n"
   ]
  },
  {
   "cell_type": "markdown",
   "metadata": {},
   "source": [
    "### Beispiel\n",
    "Eine Klasse **Person** ist folgendermaßen definiert:\n",
    "\n",
    "```\n",
    "delegate void BirthdayHandler(int age);\n",
    "\n",
    "public class Person \n",
    "{\n",
    "    // \n",
    "    // TODO (1a)\n",
    "    //\n",
    "    public DateTime Birthday { get; init; }\n",
    "\n",
    "    private void CheckBirthday()\n",
    "    {\n",
    "        bool hasBirthday = DateTime.Now.DayOfYear == BirthDay.DayOfYear;\n",
    "        int age = DateTime.Now.Year - BirthDay.Year;\n",
    "        //\n",
    "        // TODO (1b)\n",
    "        //\n",
    "    }\n",
    "\n",
    "}\n",
    "\n",
    "```\n",
    "\n",
    "1. Fügen Sie zu **Person** ein Event **OnBirthday** hinzu (1a) und komplettieren Sie die Methode **CheckBirthday** (1b), welche einmal pro Tag aufgerufen wird und das Event feuern soll, wenn die Person an diesem Tag Geburtstag hat.\n",
    "2. Registrieren Sie sich bei einer Person und gratulieren Sie dieser mittels einer Konsolenausgabe (mit Altersangabe), sobald diese Geburtstag hat."
   ]
  },
  {
   "cell_type": "code",
   "execution_count": null,
   "metadata": {
    "dotnet_interactive": {
     "language": "csharp"
    },
    "polyglot_notebook": {
     "kernelName": "csharp"
    },
    "vscode": {
     "languageId": "polyglot-notebook"
    }
   },
   "outputs": [
    {
     "name": "stdout",
     "output_type": "stream",
     "text": [
      "Happy Birthday! You are now 34 years old.\n",
      "Happy Birthday! You are now 34 years old.\n",
      "Happy Birthday! You are now 34 years old.\n",
      "Happy Birthday! You are now 34 years old.\n",
      "Happy Birthday! You are now 34 years old.\n",
      "Happy Birthday! You are now 34 years old.\n",
      "Happy Birthday! You are now 34 years old.\n",
      "Happy Birthday! You are now 34 years old.\n",
      "Happy Birthday! You are now 34 years old.\n",
      "Happy Birthday! You are now 34 years old.\n",
      "Happy Birthday! You are now 34 years old.\n",
      "Happy Birthday! You are now 34 years old.\n",
      "Happy Birthday! You are now 34 years old.\n",
      "Happy Birthday! You are now 34 years old.\n",
      "Happy Birthday! You are now 34 years old.\n",
      "Happy Birthday! You are now 34 years old.\n",
      "Happy Birthday! You are now 34 years old.\n",
      "Happy Birthday! You are now 34 years old.\n",
      "Happy Birthday! You are now 34 years old.\n",
      "Happy Birthday! You are now 34 years old.\n",
      "Happy Birthday! You are now 34 years old.\n",
      "Happy Birthday! You are now 34 years old.\n",
      "Happy Birthday! You are now 34 years old.\n",
      "Happy Birthday! You are now 34 years old.\n",
      "Happy Birthday! You are now 34 years old.\n",
      "Happy Birthday! You are now 34 years old.\n",
      "Happy Birthday! You are now 34 years old.\n",
      "Happy Birthday! You are now 34 years old.\n"
     ]
    }
   ],
   "source": [
    "public delegate void BirthdayHandler(int age);\n",
    "\n",
    "public class Person \n",
    "{\n",
    "    // TODO (1a)\n",
    "\tpublic event BirthdayHandler onBirthday;\n",
    "\n",
    "    public DateTime Birthday { get; init; }\n",
    "\n",
    "    public void CheckBirthday()\n",
    "    {\n",
    "        bool hasBirthday = DateTime.Now.DayOfYear == Birthday.DayOfYear;\n",
    "        int age = DateTime.Now.Year - Birthday.Year;\n",
    "\t\t//Console.WriteLine($\"{DateTime.Now.DayOfYear}, {Birthday.DayOfYear}\");\n",
    "        // TODO (1b)\n",
    "\t\tif (hasBirthday && onBirthday != null)\n",
    "\t\t{\n",
    "\t\t\tonBirthday(age);\t\n",
    "\t\t}\n",
    "    }\n",
    "}\n",
    "\n",
    "Person person = new Person { Birthday = new DateTime(1990, 3, 19) }; // Example birthday\n",
    "\n",
    "person.onBirthday += (int age) => Console.WriteLine($\"Happy Birthday! You are now {age} years old.\");\n",
    "\n",
    "// person.onBirthday += CongratulateOnBirthday;\n",
    "// static void CongratulateOnBirthday(int age)\n",
    "// {\n",
    "// \tConsole.WriteLine($\"Happy Birthday! You are now {age} years old.\");\n",
    "// }\n",
    "\n",
    "while (true)\n",
    "{\n",
    "\tperson.CheckBirthday();\n",
    "\tSystem.Threading.Thread.Sleep(TimeSpan.FromSeconds(1));\n",
    "}\n",
    "\n",
    "\n"
   ]
  },
  {
   "cell_type": "markdown",
   "metadata": {},
   "source": [
    "### Beispiel\n",
    "Gehen Sie von folgendem Controller aus:\n",
    "```\n",
    "[Route(\"warehouse/[controller]\")]\n",
    "public class ArticlesController : ControllerBase\n",
    "{\n",
    "    [HttpGet(\"{id}\")]\n",
    "    public ArticleDTO GetArticle(int id) { ... }\n",
    "}\n",
    "```\n",
    "Mit welcher URL kann die Methode GetProduct angesprochen werden?\n",
    "\n",
    "- [x] https://localhost:5000/warehouse/articles/123\n",
    "- [ ] https://localhost:5000/api/articles/123\n",
    "- [ ] https://localhost:5000/warehouse/123\n",
    "- [ ] https://localhost:5000/warehouse"
   ]
  },
  {
   "cell_type": "markdown",
   "metadata": {},
   "source": [
    "### Beispiel\n",
    "Hierfür habe ich leider die Angabe nicht fotografiert - es war in etwa: Gegeben ist folgende Klasse **Day**\n",
    "```\n",
    "{\n",
    "    public DayViewModel SelectedDay { get; set; }\n",
    "    public IEnumerable<DayViewModel> Days { get; set; }\n",
    "}\n",
    "```\n",
    "\n",
    "Welchen Datentyp hat der **DataContext** an der markierten Stelle?\n",
    "```\n",
    "<Window>\n",
    "    <ListBox ItemSource=\"{Binding Days}\">\n",
    "        <ListBox.ItemTemplate>\n",
    "            <DataTemplate>\n",
    "                <!-- DataContext? -->\n",
    "            </DataTemplate>\n",
    "        </ListBox.ItemTemplate>\n",
    "    </ListBox>\n",
    "</Window>\n",
    "```\n",
    "- [ ] IEnumerable<DayViewModel>\n",
    "- [ ] Days\n",
    "- [ ] object\n",
    "- [ ] ListBoxItem\n",
    "- [ ] CalendarViewModel\n",
    "- [ ] SelectedDays\n",
    "- [x] DayViewModel"
   ]
  },
  {
   "cell_type": "markdown",
   "metadata": {},
   "source": [
    "### Beispiel\n",
    "\n",
    "ApiController: Service wird folgender Request geschickt:\n",
    "\n",
    "POST api/articles\n",
    "Content-Type: application/json\n",
    "{\n",
    "    \"ArticleCode\": \"A7615\",\n",
    "    \"Description\": \"Book: C# for Dummies\"\n",
    "}\n",
    "\n",
    "- Implementieren Sie eine dazu passende Controller Methode inklusive der erforderlichen Attribute (nur die Methode, keine Klasse erforderlich).\n",
    "- Sollte es bereits einen Artikel mit dem selben ArticleCode geben, soll der Client mittels Statuscode (409 Conflict) benachrichtigt werden.\n",
    "- Liefern Sie im ERfolgsfall einen StatusCode 201 (oder 200) mit leerem Body zurück - der Location-Header muss nicht gesetzt sein.\n",
    "\n",
    "Sie können folgenden Code und Geschäftslogikmethoden, sowie eine Instanz von IArticleLogic voraussetzen:\n",
    "\n",
    "```\n",
    "public class Article\n",
    "{\n",
    "    public string ArticleCode { get; set; }\n",
    "    public string Description { get; set; }\n",
    "}\n",
    "\n",
    "public interface IArticleLogic\n",
    "{\n",
    "    Task<bool> ArticleExistsAsync(string articleCode);\n",
    "    Task CreateArticleAsync(Article article);\n",
    "}\n",
    "\n",
    "```"
   ]
  },
  {
   "cell_type": "code",
   "execution_count": 1,
   "metadata": {
    "dotnet_interactive": {
     "language": "csharp"
    },
    "polyglot_notebook": {
     "kernelName": "csharp"
    },
    "vscode": {
     "languageId": "polyglot-notebook"
    }
   },
   "outputs": [
    {
     "data": {
      "text/html": [
       "<div><div></div><div></div><div><strong>Installed Packages</strong><ul><li><span>Microsoft.AspNetCore.Mvc, 2.2.0</span></li></ul></div></div>"
      ]
     },
     "metadata": {},
     "output_type": "display_data"
    }
   ],
   "source": [
    "#r \"nuget: Microsoft.AspNetCore.Mvc\"\n",
    "public class Article\n",
    "{\n",
    "    public string ArticleCode { get; set; }\n",
    "    public string Description { get; set; }\n",
    "}\n",
    "\n",
    "public interface IArticleLogic\n",
    "{\n",
    "    Task<bool> ArticleExistsAsync(string articleCode);\n",
    "    Task CreateArticleAsync(Article article);\n",
    "}"
   ]
  },
  {
   "cell_type": "code",
   "execution_count": 2,
   "metadata": {
    "dotnet_interactive": {
     "language": "csharp"
    },
    "polyglot_notebook": {
     "kernelName": "csharp"
    },
    "vscode": {
     "languageId": "polyglot-notebook"
    }
   },
   "outputs": [],
   "source": [
    "using Microsoft.AspNetCore.Mvc;\n",
    "\n",
    "public class ArticleController : ControllerBase\n",
    "{\n",
    "\tprivate readonly IArticleLogic aLogic;\n",
    "\n",
    "\t[HttpPost]\n",
    "\tpublic async Task<ActionResult> CreateArticle([FromBody] Article article)\n",
    "\t{\n",
    "\t\tif (await aLogic.ArticleExistsAsync(article.ArticleCode))\n",
    "\t\t{\n",
    "\t\t\treturn Conflict();\n",
    "\t\t}\n",
    "\n",
    "\t\tawait aLogic.CreateArticleAsync(article);\n",
    "\t\treturn Ok();\n",
    "\t}\n",
    "}"
   ]
  }
 ],
 "metadata": {
  "language_info": {
   "name": "python"
  }
 },
 "nbformat": 4,
 "nbformat_minor": 2
}
